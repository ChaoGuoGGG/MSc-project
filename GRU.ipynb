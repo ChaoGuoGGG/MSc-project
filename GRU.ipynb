{
  "nbformat": 4,
  "nbformat_minor": 0,
  "metadata": {
    "colab": {
      "name": "GRU.ipynb",
      "provenance": [],
      "collapsed_sections": [],
      "machine_shape": "hm"
    },
    "kernelspec": {
      "display_name": "Python 3",
      "name": "python3"
    },
    "language_info": {
      "name": "python"
    }
  },
  "cells": [
    {
      "cell_type": "markdown",
      "metadata": {
        "id": "2LyDht1cLhhx"
      },
      "source": [
        "**Load Data**"
      ]
    },
    {
      "cell_type": "code",
      "metadata": {
        "id": "LFk9A3TRyCMR"
      },
      "source": [
        "from google.colab import drive\n",
        "import pandas as pd\n",
        "import numpy as np\n",
        "import tensorflow as tf\n",
        "from tensorflow.keras.models import Sequential\n",
        "from tensorflow.keras.layers import Dense\n",
        "from tensorflow.keras.layers import LSTM,GRU\n",
        "from tensorflow.keras.layers import Dropout\n",
        "from sklearn.preprocessing import MinMaxScaler\n",
        "from tensorflow.keras.models import load_model\n",
        "from tensorflow.keras.callbacks import EarlyStopping, CSVLogger, ModelCheckpoint, ReduceLROnPlateau\n",
        "\n",
        "from matplotlib import pyplot as plt\n",
        "from sklearn.metrics import confusion_matrix"
      ],
      "execution_count": null,
      "outputs": []
    },
    {
      "cell_type": "code",
      "metadata": {
        "colab": {
          "base_uri": "https://localhost:8080/"
        },
        "id": "qBUe7UMyxtWP",
        "outputId": "fe81ae3b-5190-4a70-b8d2-da9e35acbff3"
      },
      "source": [
        "drive.mount('/content/drive')"
      ],
      "execution_count": null,
      "outputs": [
        {
          "output_type": "stream",
          "text": [
            "Mounted at /content/drive\n"
          ],
          "name": "stdout"
        }
      ]
    },
    {
      "cell_type": "code",
      "metadata": {
        "id": "HKvaKTgTuQwS"
      },
      "source": [
        "usageData = pd.read_csv('drive/MyDrive/Colab Notebooks/source_data.csv')"
      ],
      "execution_count": null,
      "outputs": []
    },
    {
      "cell_type": "code",
      "metadata": {
        "id": "0YNLaUwO5mKz"
      },
      "source": [
        "data = usageData.drop(['collection_id'], axis=1)\n",
        "data = data.drop(['instance_index'], axis=1)\n",
        "data = data.drop(['Unnamed: 0'], axis=1)\n",
        "data['time'] = pd.to_datetime(data['time'])\n",
        "data.set_index('time', inplace=True)\n",
        "label = data['type']\n",
        "data = data.drop(['type'], axis=1)\n",
        "data = data.drop(['priority'], axis=1)\n",
        "data = data.drop(['scheduling_class'], axis=1)\n",
        "data = data.drop(['resubmit_time'], axis=1)\n",
        "\n",
        "scaler1 = MinMaxScaler(feature_range = (0,1))\n",
        "data = scaler1.fit_transform(data)"
      ],
      "execution_count": null,
      "outputs": []
    },
    {
      "cell_type": "code",
      "metadata": {
        "id": "jaUWwG5iT2dq",
        "colab": {
          "base_uri": "https://localhost:8080/"
        },
        "outputId": "0461ad40-53cf-4597-e254-c6a8a5e4d2f5"
      },
      "source": [
        "print(data)"
      ],
      "execution_count": null,
      "outputs": [
        {
          "output_type": "stream",
          "text": [
            "[[0.01250774 0.01852029 0.00418736]\n",
            " [0.02671933 0.0103734  0.00406035]\n",
            " [0.00747367 0.00919421 0.00263151]\n",
            " ...\n",
            " [0.         0.03434844 0.01458322]\n",
            " [0.02575124 0.02793065 0.01312551]\n",
            " [0.02249845 0.03246181 0.01967181]]\n"
          ],
          "name": "stdout"
        }
      ]
    },
    {
      "cell_type": "code",
      "metadata": {
        "id": "vWPRi_m27RZd"
      },
      "source": [
        "trainPercent = 0.7\n",
        "validPercent = 0.8\n",
        "\n",
        "data_to_train = data[:int(len(data)*trainPercent)]\n",
        "label_to_train = label[:int(len(data)*trainPercent)]\n",
        "\n",
        "data_to_valid = data[int(len(data)*trainPercent):int(len(data)*validPercent)]\n",
        "label_to_valid = label[int(len(data)*trainPercent):int(len(data)*validPercent)]\n",
        "\n",
        "data_to_test = data[int(len(data)*validPercent):]\n",
        "label_to_test = label[int(len(data)*validPercent):]"
      ],
      "execution_count": null,
      "outputs": []
    },
    {
      "cell_type": "code",
      "metadata": {
        "colab": {
          "base_uri": "https://localhost:8080/"
        },
        "id": "YYMppRmjERJ1",
        "outputId": "b66abe88-8e3f-428b-bb3b-03e3bd8eec75"
      },
      "source": [
        "print(len(data_to_train))\n",
        "print(len(label_to_train))\n",
        "print(len(data_to_valid))\n",
        "print(len(label_to_valid))\n",
        "print(len(data_to_test))\n",
        "print(len(label_to_test))"
      ],
      "execution_count": null,
      "outputs": [
        {
          "output_type": "stream",
          "text": [
            "20183094\n",
            "20183094\n",
            "2883299\n",
            "2883299\n",
            "5766599\n",
            "5766599\n"
          ],
          "name": "stdout"
        }
      ]
    },
    {
      "cell_type": "code",
      "metadata": {
        "id": "A4Ewj6M6nqmo"
      },
      "source": [
        "x_train = np.array(data_to_train)\n",
        "y_train = np.array(label_to_train)\n",
        "\n",
        "x_valid = np.array(data_to_valid)\n",
        "y_valid = np.array(label_to_valid)\n",
        "\n",
        "x_test = np.array(data_to_test)\n",
        "y_test = np.array(label_to_test)"
      ],
      "execution_count": null,
      "outputs": []
    },
    {
      "cell_type": "code",
      "metadata": {
        "id": "NAHbiswnLwiz"
      },
      "source": [
        "x_train = np.reshape(x_train, (x_train.shape[0], 1, x_train.shape[1]))\n",
        "x_valid = np.reshape(x_valid, (x_valid.shape[0], 1, x_valid.shape[1]))\n",
        "x_test = np.reshape(x_test, (x_test.shape[0], 1, x_test.shape[1]))"
      ],
      "execution_count": null,
      "outputs": []
    },
    {
      "cell_type": "code",
      "metadata": {
        "id": "RcU6OKsVZ9u-"
      },
      "source": [
        "x_train = tf.convert_to_tensor(x_train)\n",
        "y_train = tf.convert_to_tensor(y_train)\n",
        "\n",
        "x_valid = tf.convert_to_tensor(x_valid)\n",
        "y_valid = tf.convert_to_tensor(y_valid)\n",
        "\n",
        "x_test = tf.convert_to_tensor(x_test)\n",
        "y_test = tf.convert_to_tensor(y_test)"
      ],
      "execution_count": null,
      "outputs": []
    },
    {
      "cell_type": "code",
      "metadata": {
        "colab": {
          "base_uri": "https://localhost:8080/"
        },
        "id": "8glMjPrDFeSH",
        "outputId": "90ae7490-f8b6-4494-c44b-67e56304117e"
      },
      "source": [
        "print(x_train)"
      ],
      "execution_count": null,
      "outputs": [
        {
          "output_type": "stream",
          "text": [
            "tf.Tensor(\n",
            "[[[1.25077447e-02 1.85202877e-02 4.18736169e-03 2.28000000e-01\n",
            "   8.14662273e-04 0.00000000e+00]]\n",
            "\n",
            " [[2.67193309e-02 1.03734015e-02 4.06034506e-03 2.28000000e-01\n",
            "   3.14332784e-04 0.00000000e+00]]\n",
            "\n",
            " [[7.47366791e-03 9.19421497e-03 2.63151057e-03 2.28000000e-01\n",
            "   4.15156507e-05 0.00000000e+00]]\n",
            "\n",
            " ...\n",
            "\n",
            " [[0.00000000e+00 3.10799266e-02 1.03112998e-02 4.00000000e-01\n",
            "   2.61943987e-05 1.00000000e+00]]\n",
            "\n",
            " [[1.35145601e-02 1.17371227e-02 6.87176460e-03 4.00000000e-01\n",
            "   9.88467875e-07 1.00000000e+00]]\n",
            "\n",
            " [[3.87236679e-05 1.38312380e-02 2.88900924e-03 4.00000000e-01\n",
            "   2.61943987e-05 1.00000000e+00]]], shape=(20183094, 1, 6), dtype=float64)\n"
          ],
          "name": "stdout"
        }
      ]
    },
    {
      "cell_type": "markdown",
      "metadata": {
        "id": "KFkIScidtUNf"
      },
      "source": [
        "**Define Model**"
      ]
    },
    {
      "cell_type": "code",
      "metadata": {
        "colab": {
          "base_uri": "https://localhost:8080/"
        },
        "id": "EL1UfXDwSsWL",
        "outputId": "f638a5c3-95de-4d70-95db-d40368850fc0"
      },
      "source": [
        "n_units=512\n",
        "batch_size=128\n",
        "n_epochs=30\n",
        "patience=10\n",
        "\n",
        "GRUmodel = Sequential()\n",
        "GRUmodel.add(GRU(n_units, return_sequences=True, input_shape=(x_train.shape[1:])))\n",
        "GRUmodel.add(Dropout(0.5))\n",
        "GRUmodel.add(GRU(n_units))\n",
        "GRUmodel.add(Dropout(0.5))\n",
        "GRUmodel.add(Dense(1))\n",
        "GRUmodel.compile(loss='mean_squared_error', \n",
        "              metrics=['mse','mape'],\n",
        "              optimizer='adam')\n",
        "GRUmodel.summary()"
      ],
      "execution_count": null,
      "outputs": [
        {
          "output_type": "stream",
          "text": [
            "Model: \"sequential_1\"\n",
            "_________________________________________________________________\n",
            "Layer (type)                 Output Shape              Param #   \n",
            "=================================================================\n",
            "gru (GRU)                    (None, 1, 512)            794112    \n",
            "_________________________________________________________________\n",
            "dropout_2 (Dropout)          (None, 1, 512)            0         \n",
            "_________________________________________________________________\n",
            "gru_1 (GRU)                  (None, 512)               1575936   \n",
            "_________________________________________________________________\n",
            "dropout_3 (Dropout)          (None, 512)               0         \n",
            "_________________________________________________________________\n",
            "dense_1 (Dense)              (None, 1)                 513       \n",
            "=================================================================\n",
            "Total params: 2,370,561\n",
            "Trainable params: 2,370,561\n",
            "Non-trainable params: 0\n",
            "_________________________________________________________________\n"
          ],
          "name": "stdout"
        }
      ]
    },
    {
      "cell_type": "code",
      "metadata": {
        "colab": {
          "base_uri": "https://localhost:8080/"
        },
        "id": "7Bto2CIpVS_b",
        "outputId": "316c05b2-e093-4f3a-8598-45fac354e714"
      },
      "source": [
        "n_units=512\n",
        "batch_size=128\n",
        "n_epochs=30\n",
        "patience=10\n",
        "\n",
        "LSTMmodel = Sequential()\n",
        "LSTMmodel.add(LSTM(n_units, return_sequences=True, input_shape=(x_train.shape[1:])))\n",
        "LSTMmodel.add(Dropout(0.5))\n",
        "LSTMmodel.add(LSTM(n_units))\n",
        "LSTMmodel.add(Dropout(0.5))\n",
        "LSTMmodel.add(Dense(1))\n",
        "LSTMmodel.compile(loss='mean_squared_error', \n",
        "              metrics=['mse','mape'],\n",
        "              optimizer='adam')\n",
        "LSTMmodel.summary()"
      ],
      "execution_count": null,
      "outputs": [
        {
          "output_type": "stream",
          "text": [
            "Model: \"sequential\"\n",
            "_________________________________________________________________\n",
            "Layer (type)                 Output Shape              Param #   \n",
            "=================================================================\n",
            "lstm (LSTM)                  (None, 1, 512)            1062912   \n",
            "_________________________________________________________________\n",
            "dropout (Dropout)            (None, 1, 512)            0         \n",
            "_________________________________________________________________\n",
            "lstm_1 (LSTM)                (None, 512)               2099200   \n",
            "_________________________________________________________________\n",
            "dropout_1 (Dropout)          (None, 512)               0         \n",
            "_________________________________________________________________\n",
            "dense (Dense)                (None, 1)                 513       \n",
            "=================================================================\n",
            "Total params: 3,162,625\n",
            "Trainable params: 3,162,625\n",
            "Non-trainable params: 0\n",
            "_________________________________________________________________\n"
          ],
          "name": "stdout"
        }
      ]
    },
    {
      "cell_type": "code",
      "metadata": {
        "colab": {
          "base_uri": "https://localhost:8080/"
        },
        "id": "zcKlEj7JQmVg",
        "outputId": "330b157a-bd7a-4fdc-cf9f-05a5a54f3293"
      },
      "source": [
        "GRUmodel.fit(x_train, y_train, \n",
        "     epochs=n_epochs, batch_size=batch_size, \n",
        "     validation_data=(x_valid, y_valid), \n",
        "     callbacks=[ReduceLROnPlateau(), \n",
        "     ModelCheckpoint('GRU-N{}-D0.5-B{}.h5'.format(n_units,batch_size)),\n",
        "     EarlyStopping(monitor='val_loss', mode='min', verbose=1, patience=10),\n",
        "     CSVLogger(f\"GRU-log-Nodes-{n_units}-dropout-0.5-batchsize-{batch_size}.csv\")], \n",
        "     verbose=1, shuffle=False)"
      ],
      "execution_count": null,
      "outputs": [
        {
          "output_type": "stream",
          "text": [
            "Epoch 1/30\n",
            "157681/157681 [==============================] - 583s 4ms/step - loss: 0.0441 - mse: 0.0441 - mape: 1.1760 - val_loss: 0.0427 - val_mse: 0.0427 - val_mape: 1.8725\n",
            "Epoch 2/30\n",
            "157681/157681 [==============================] - 586s 4ms/step - loss: 0.0300 - mse: 0.0300 - mape: 0.7293 - val_loss: 0.0427 - val_mse: 0.0427 - val_mape: 1.9446\n",
            "Epoch 3/30\n",
            "157681/157681 [==============================] - 573s 4ms/step - loss: 0.0309 - mse: 0.0309 - mape: 0.7464 - val_loss: 0.0437 - val_mse: 0.0437 - val_mape: 2.0090\n",
            "Epoch 4/30\n",
            "157681/157681 [==============================] - 576s 4ms/step - loss: 0.0297 - mse: 0.0297 - mape: 0.7178 - val_loss: 0.0424 - val_mse: 0.0424 - val_mape: 1.8945\n",
            "Epoch 5/30\n",
            "157681/157681 [==============================] - 578s 4ms/step - loss: 0.0297 - mse: 0.0297 - mape: 0.7205 - val_loss: 0.0420 - val_mse: 0.0420 - val_mape: 1.8681\n",
            "Epoch 6/30\n",
            "157681/157681 [==============================] - 579s 4ms/step - loss: 0.0295 - mse: 0.0295 - mape: 0.7186 - val_loss: 0.0443 - val_mse: 0.0443 - val_mape: 1.9897\n",
            "Epoch 7/30\n",
            "157681/157681 [==============================] - 579s 4ms/step - loss: 0.0304 - mse: 0.0304 - mape: 0.7383 - val_loss: 0.0451 - val_mse: 0.0451 - val_mape: 1.9916\n",
            "Epoch 8/30\n",
            "157681/157681 [==============================] - 579s 4ms/step - loss: 0.0304 - mse: 0.0304 - mape: 0.7420 - val_loss: 0.0422 - val_mse: 0.0422 - val_mape: 1.8733\n",
            "Epoch 9/30\n",
            "157681/157681 [==============================] - 578s 4ms/step - loss: 0.0304 - mse: 0.0304 - mape: 0.7436 - val_loss: 0.0437 - val_mse: 0.0437 - val_mape: 1.9253\n",
            "Epoch 10/30\n",
            "157681/157681 [==============================] - 578s 4ms/step - loss: 0.0304 - mse: 0.0304 - mape: 0.7372 - val_loss: 0.0426 - val_mse: 0.0426 - val_mape: 1.9376\n",
            "Epoch 11/30\n",
            "157681/157681 [==============================] - 578s 4ms/step - loss: 0.0308 - mse: 0.0308 - mape: 0.7467 - val_loss: 0.0436 - val_mse: 0.0436 - val_mape: 1.9214\n",
            "Epoch 12/30\n",
            "157681/157681 [==============================] - 578s 4ms/step - loss: 0.0309 - mse: 0.0309 - mape: 0.7463 - val_loss: 0.0460 - val_mse: 0.0460 - val_mape: 2.0365\n",
            "Epoch 13/30\n",
            "157681/157681 [==============================] - 579s 4ms/step - loss: 0.0309 - mse: 0.0309 - mape: 0.7432 - val_loss: 0.0432 - val_mse: 0.0432 - val_mape: 1.9218\n",
            "Epoch 14/30\n",
            "157681/157681 [==============================] - 580s 4ms/step - loss: 0.0308 - mse: 0.0308 - mape: 0.7397 - val_loss: 0.0423 - val_mse: 0.0423 - val_mape: 1.9351\n",
            "Epoch 15/30\n",
            "157681/157681 [==============================] - 580s 4ms/step - loss: 0.0305 - mse: 0.0305 - mape: 0.7343 - val_loss: 0.0426 - val_mse: 0.0426 - val_mape: 1.8899\n",
            "Epoch 00015: early stopping\n"
          ],
          "name": "stdout"
        },
        {
          "output_type": "execute_result",
          "data": {
            "text/plain": [
              "<tensorflow.python.keras.callbacks.History at 0x7f2b745eebd0>"
            ]
          },
          "metadata": {
            "tags": []
          },
          "execution_count": 32
        }
      ]
    },
    {
      "cell_type": "code",
      "metadata": {
        "id": "pwHiYSLdVQ8R",
        "colab": {
          "base_uri": "https://localhost:8080/"
        },
        "outputId": "b57548ff-eaf8-4ddd-c80e-6d1215afd60e"
      },
      "source": [
        "LSTMmodel.fit(x_train, y_train, \n",
        "      epochs=n_epochs, batch_size=batch_size, \n",
        "      validation_data=(x_test, y_test), \n",
        "      callbacks=[ReduceLROnPlateau(), \n",
        "      ModelCheckpoint('LSTM-N{}-D0.5-B{}.h5'.format(n_units,batch_size)),\n",
        "      EarlyStopping(monitor='val_loss', mode='min', verbose=1, patience=10),\n",
        "      CSVLogger(f\"LSTM-log-Nodes-{n_units}-dropout-0.5-batchsize-{batch_size}.csv\")], \n",
        "      verbose=1, shuffle=False)"
      ],
      "execution_count": null,
      "outputs": [
        {
          "output_type": "stream",
          "text": [
            "Epoch 1/30\n",
            "157681/157681 [==============================] - 651s 4ms/step - loss: 0.0448 - mse: 0.0448 - mape: 1.1396 - val_loss: 0.1295 - val_mse: 0.1295 - val_mape: 3.6552\n",
            "Epoch 2/30\n",
            "157681/157681 [==============================] - 642s 4ms/step - loss: 0.0261 - mse: 0.0261 - mape: 0.6758 - val_loss: 0.2970 - val_mse: 0.2970 - val_mape: 4.9116\n",
            "Epoch 3/30\n",
            "157681/157681 [==============================] - 638s 4ms/step - loss: 0.0248 - mse: 0.0248 - mape: 0.6428 - val_loss: 0.0590 - val_mse: 0.0590 - val_mape: 2.1966\n",
            "Epoch 4/30\n",
            "157681/157681 [==============================] - 637s 4ms/step - loss: 0.0239 - mse: 0.0239 - mape: 0.6213 - val_loss: 0.0541 - val_mse: 0.0541 - val_mape: 2.2324\n",
            "Epoch 5/30\n",
            "157681/157681 [==============================] - 634s 4ms/step - loss: 0.0236 - mse: 0.0236 - mape: 0.6165 - val_loss: 0.0460 - val_mse: 0.0460 - val_mape: 1.9483\n",
            "Epoch 6/30\n",
            "157681/157681 [==============================] - 628s 4ms/step - loss: 0.0231 - mse: 0.0231 - mape: 0.6019 - val_loss: 0.0430 - val_mse: 0.0430 - val_mape: 2.0369\n",
            "Epoch 7/30\n",
            "157681/157681 [==============================] - 624s 4ms/step - loss: 0.0229 - mse: 0.0229 - mape: 0.5958 - val_loss: 0.0372 - val_mse: 0.0372 - val_mape: 1.8656\n",
            "Epoch 8/30\n",
            "157681/157681 [==============================] - 626s 4ms/step - loss: 0.0226 - mse: 0.0226 - mape: 0.5885 - val_loss: 0.0385 - val_mse: 0.0385 - val_mape: 1.9934\n",
            "Epoch 9/30\n",
            "157681/157681 [==============================] - 626s 4ms/step - loss: 0.0228 - mse: 0.0228 - mape: 0.5988 - val_loss: 0.0360 - val_mse: 0.0360 - val_mape: 1.8705\n",
            "Epoch 10/30\n",
            "157681/157681 [==============================] - 631s 4ms/step - loss: 0.0226 - mse: 0.0226 - mape: 0.5964 - val_loss: 0.0374 - val_mse: 0.0374 - val_mape: 2.0194\n",
            "Epoch 11/30\n",
            "157681/157681 [==============================] - 638s 4ms/step - loss: 0.0224 - mse: 0.0224 - mape: 0.5991 - val_loss: 0.0449 - val_mse: 0.0449 - val_mape: 2.3789\n",
            "Epoch 12/30\n",
            "157681/157681 [==============================] - 639s 4ms/step - loss: 0.0218 - mse: 0.0218 - mape: 0.5806 - val_loss: 0.0400 - val_mse: 0.0400 - val_mape: 1.9583\n",
            "Epoch 13/30\n",
            "157681/157681 [==============================] - 639s 4ms/step - loss: 0.0216 - mse: 0.0216 - mape: 0.5759 - val_loss: 0.0489 - val_mse: 0.0489 - val_mape: 2.4426\n",
            "Epoch 14/30\n",
            "157681/157681 [==============================] - 637s 4ms/step - loss: 0.0218 - mse: 0.0218 - mape: 0.5844 - val_loss: 0.0530 - val_mse: 0.0530 - val_mape: 2.6379\n",
            "Epoch 15/30\n",
            "157681/157681 [==============================] - 639s 4ms/step - loss: 0.0216 - mse: 0.0216 - mape: 0.5836 - val_loss: 0.0528 - val_mse: 0.0528 - val_mape: 2.7807\n",
            "Epoch 16/30\n",
            "157681/157681 [==============================] - 637s 4ms/step - loss: 0.0213 - mse: 0.0213 - mape: 0.5814 - val_loss: 0.0570 - val_mse: 0.0570 - val_mape: 2.8329\n",
            "Epoch 17/30\n",
            "157681/157681 [==============================] - 638s 4ms/step - loss: 0.0215 - mse: 0.0215 - mape: 0.5827 - val_loss: 0.0409 - val_mse: 0.0409 - val_mape: 2.1595\n",
            "Epoch 18/30\n",
            "157681/157681 [==============================] - 640s 4ms/step - loss: 0.0212 - mse: 0.0212 - mape: 0.5741 - val_loss: 0.0392 - val_mse: 0.0392 - val_mape: 1.8911\n",
            "Epoch 19/30\n",
            "157681/157681 [==============================] - 640s 4ms/step - loss: 0.0209 - mse: 0.0209 - mape: 0.5654 - val_loss: 0.0398 - val_mse: 0.0398 - val_mape: 1.9269\n",
            "Epoch 00019: early stopping\n"
          ],
          "name": "stdout"
        },
        {
          "output_type": "execute_result",
          "data": {
            "text/plain": [
              "<tensorflow.python.keras.callbacks.History at 0x7f2c005b9b90>"
            ]
          },
          "metadata": {
            "tags": []
          },
          "execution_count": 10
        }
      ]
    },
    {
      "cell_type": "markdown",
      "metadata": {
        "id": "vkP13nA4X-_b"
      },
      "source": [
        "**Predicting With GRU**"
      ]
    },
    {
      "cell_type": "code",
      "metadata": {
        "id": "2k-u7T4VYH-0"
      },
      "source": [
        "GRUmodel = load_model('GRU-N512-D0.5-B128.h5')\n",
        "# LSTMmodel = load_model('LSTM-N512-D0.5-B128.h5')"
      ],
      "execution_count": null,
      "outputs": []
    },
    {
      "cell_type": "code",
      "metadata": {
        "id": "R6jts0HpXItS"
      },
      "source": [
        "GRU = pd.read_csv('GRU-log-Nodes-512-dropout-0.5-batchsize-128.csv')\n",
        "# LSTM = pd.read_csv('LSTM-log-Nodes-512-dropout-0.5-batchsize-128.csv')"
      ],
      "execution_count": null,
      "outputs": []
    },
    {
      "cell_type": "code",
      "metadata": {
        "id": "BitpyVeCWm1y",
        "colab": {
          "base_uri": "https://localhost:8080/",
          "height": 478
        },
        "outputId": "064c7d47-3568-4f2c-d21c-dd043faeb277"
      },
      "source": [
        "plt.figure(figsize=(10,7))\n",
        "ax = GRU['loss'].plot(x='epoch', marker='o')\n",
        "GRU['loss'].plot.bar(x='epoch',ax=ax,alpha=0.5,color='gray')\n",
        "plt.ylabel('Loss')\n",
        "plt.xlabel('Epoch')\n",
        "plt.title('GRU Training Loss')"
      ],
      "execution_count": null,
      "outputs": [
        {
          "output_type": "execute_result",
          "data": {
            "text/plain": [
              "Text(0.5, 1.0, 'GRU Training Loss')"
            ]
          },
          "metadata": {
            "tags": []
          },
          "execution_count": 35
        },
        {
          "output_type": "display_data",
          "data": {
            "image/png": "[encoded data removed]",
            "text/plain": [
              "<Figure size 720x504 with 1 Axes>"
            ]
          },
          "metadata": {
            "tags": [],
            "needs_background": "light"
          }
        }
      ]
    },
    {
      "cell_type": "code",
      "metadata": {
        "id": "coMvbqtBLbjV"
      },
      "source": [
        "plt.figure(figsize=(10,7))\n",
        "ax = LSTM['loss'].plot(x='epoch', marker='o')\n",
        "LSTM['loss'].plot.bar(x='epoch',ax=ax,alpha=0.5,color='gray')\n",
        "plt.ylabel('Loss')\n",
        "plt.xlabel('Epoch')\n",
        "plt.title('LSTM Training Loss')"
      ],
      "execution_count": null,
      "outputs": []
    },
    {
      "cell_type": "code",
      "metadata": {
        "id": "gKxj5xgZZmDy",
        "colab": {
          "base_uri": "https://localhost:8080/",
          "height": 478
        },
        "outputId": "fa62533a-c9da-47e6-c6fa-45b7cf7c9cfc"
      },
      "source": [
        "plt.figure(figsize=(10,7))\n",
        "ax = GRU['val_loss'].plot(x='epoch', marker='o')\n",
        "GRU['val_loss'].plot.bar(x='epoch',ax=ax,alpha=0.5,color='gray')\n",
        "plt.ylabel('Loss')\n",
        "plt.xlabel('Epoch')\n",
        "plt.title('Validation Loss')"
      ],
      "execution_count": null,
      "outputs": [
        {
          "output_type": "execute_result",
          "data": {
            "text/plain": [
              "Text(0.5, 1.0, 'Validation Loss')"
            ]
          },
          "metadata": {
            "tags": []
          },
          "execution_count": 37
        },
        {
          "output_type": "display_data",
          "data": {
            "image/png": "[encoded data removed]",
            "text/plain": [
              "<Figure size 720x504 with 1 Axes>"
            ]
          },
          "metadata": {
            "tags": [],
            "needs_background": "light"
          }
        }
      ]
    },
    {
      "cell_type": "code",
      "metadata": {
        "id": "DbtA5y-GLf72",
        "colab": {
          "base_uri": "https://localhost:8080/",
          "height": 478
        },
        "outputId": "89151151-95b7-4bd7-dd82-772d9e6578ad"
      },
      "source": [
        "plt.figure(figsize=(10,7))\n",
        "ax = LSTM['val_loss'].plot(x='epoch', marker='o')\n",
        "LSTM['val_loss'].plot.bar(x='epoch',ax=ax,alpha=0.5,color='gray')\n",
        "plt.ylabel('Loss')\n",
        "plt.xlabel('Epoch')\n",
        "plt.title('Validation Loss')"
      ],
      "execution_count": null,
      "outputs": [
        {
          "output_type": "execute_result",
          "data": {
            "text/plain": [
              "Text(0.5, 1.0, 'Validation Loss')"
            ]
          },
          "metadata": {
            "tags": []
          },
          "execution_count": 14
        },
        {
          "output_type": "display_data",
          "data": {
            "image/png": "[encoded data removed]",
            "text/plain": [
              "<Figure size 720x504 with 1 Axes>"
            ]
          },
          "metadata": {
            "tags": [],
            "needs_background": "light"
          }
        }
      ]
    },
    {
      "cell_type": "code",
      "metadata": {
        "colab": {
          "base_uri": "https://localhost:8080/"
        },
        "id": "KX_dQYWaePSe",
        "outputId": "09d679bf-2b76-43b9-ab44-0a5a59907232"
      },
      "source": [
        "print(GRUmodel.evaluate(x_test, y_test))\n",
        "# print(LSTMmodel.evaluate(x_test, y_test))"
      ],
      "execution_count": null,
      "outputs": [
        {
          "output_type": "stream",
          "text": [
            "24491/24491 [==============================] - 50s 2ms/step - loss: 6.6395e-05 - mse: 4.4086e-09 - mape: 9.4840e-04\n",
            "[6.639501953031868e-05, 4.408641451902895e-09, 0.0009483956964686513]\n"
          ],
          "name": "stdout"
        }
      ]
    },
    {
      "cell_type": "code",
      "metadata": {
        "id": "gYzlU_lTeU2p"
      },
      "source": [
        "val_predict_GRU = GRUmodel.predict(x_test)"
      ],
      "execution_count": null,
      "outputs": []
    },
    {
      "cell_type": "code",
      "metadata": {
        "id": "aCNFby29u00x"
      },
      "source": [
        "val_predict_LSTM = LSTMmodel.predict(x_test)"
      ],
      "execution_count": null,
      "outputs": []
    },
    {
      "cell_type": "code",
      "metadata": {
        "colab": {
          "base_uri": "https://localhost:8080/"
        },
        "id": "0QDRY82qkRtW",
        "outputId": "ddd97f95-42bd-4777-c465-9b8aef823ba4"
      },
      "source": [
        "print(len(val_predict_GRU.round()))"
      ],
      "execution_count": null,
      "outputs": [
        {
          "output_type": "stream",
          "text": [
            "783682\n"
          ],
          "name": "stdout"
        }
      ]
    },
    {
      "cell_type": "code",
      "metadata": {
        "id": "TY0mk9ZwCWN3"
      },
      "source": [
        "predict_GRU = pd.DataFrame(val_predict_GRU.round(), columns=['prediction'])"
      ],
      "execution_count": null,
      "outputs": []
    },
    {
      "cell_type": "code",
      "metadata": {
        "id": "HVnBjc3LuwJ4"
      },
      "source": [
        "predict_LSTM = pd.DataFrame(val_predict_LSTM.round(), columns=['prediction'])"
      ],
      "execution_count": null,
      "outputs": []
    },
    {
      "cell_type": "code",
      "metadata": {
        "id": "09tKkvCND0An"
      },
      "source": [
        "aaa = []\n",
        "for i, row in predict_GRU.iterrows():\n",
        "  aaa.append(row['prediction'])"
      ],
      "execution_count": null,
      "outputs": []
    },
    {
      "cell_type": "code",
      "metadata": {
        "id": "jaxABo2_u7jK"
      },
      "source": [
        "bbb = []\n",
        "for i, row in predict_LSTM.iterrows():\n",
        "  bbb.append(row['prediction'])"
      ],
      "execution_count": null,
      "outputs": []
    },
    {
      "cell_type": "code",
      "metadata": {
        "colab": {
          "base_uri": "https://localhost:8080/"
        },
        "id": "wRShPbwGGySh",
        "outputId": "24f93cbe-e618-4449-ce32-b74dc435340e"
      },
      "source": [
        "print(len(aaa))\n",
        "# print(len(bbb))"
      ],
      "execution_count": null,
      "outputs": [
        {
          "output_type": "stream",
          "text": [
            "783681\n"
          ],
          "name": "stdout"
        }
      ]
    },
    {
      "cell_type": "code",
      "metadata": {
        "id": "FO1pYTNnBzst"
      },
      "source": [
        "test_label = pd.DataFrame(label_to_test)"
      ],
      "execution_count": null,
      "outputs": []
    },
    {
      "cell_type": "code",
      "metadata": {
        "id": "t9BEQqQSVG4I"
      },
      "source": [
        "test_label.insert(1, 'predict_GRU', aaa)"
      ],
      "execution_count": null,
      "outputs": []
    },
    {
      "cell_type": "code",
      "metadata": {
        "id": "UtdgxfXSu-Yx"
      },
      "source": [
        "test_label.insert(1, 'predict_LSTM', bbb)"
      ],
      "execution_count": null,
      "outputs": []
    },
    {
      "cell_type": "code",
      "metadata": {
        "colab": {
          "base_uri": "https://localhost:8080/"
        },
        "id": "57cQ9gDEIqWM",
        "outputId": "f6b8fb21-53dd-48eb-f7f1-2f38b12fb12c"
      },
      "source": [
        "print(test_label.head())"
      ],
      "execution_count": null,
      "outputs": [
        {
          "output_type": "stream",
          "text": [
            "                               type  predict_LSTM\n",
            "time                                             \n",
            "1970-01-01 00:13:21.692265143     7           7.0\n",
            "1970-01-01 00:18:48.854027373     6           7.0\n",
            "1970-01-01 00:03:34.578355654     5           7.0\n",
            "1970-01-01 00:41:17.992417959     7           7.0\n",
            "1970-01-01 00:03:03.443363380     7           7.0\n"
          ],
          "name": "stdout"
        }
      ]
    },
    {
      "cell_type": "code",
      "metadata": {
        "id": "gEUF2NQ9IiTr"
      },
      "source": [
        "GRU_predict_5_5 = 0\n",
        "GRU_predict_5_6 = 0\n",
        "GRU_predict_5_7 = 0\n",
        "GRU_predict_6_5 = 0\n",
        "GRU_predict_6_6 = 0\n",
        "GRU_predict_6_7 = 0\n",
        "GRU_predict_7_5 = 0\n",
        "GRU_predict_7_6 = 0\n",
        "GRU_predict_7_7 = 0\n",
        "# LSTM_predict_5_5 = 0\n",
        "# LSTM_predict_5_6 = 0\n",
        "# LSTM_predict_5_7 = 0\n",
        "# LSTM_predict_6_5 = 0\n",
        "# LSTM_predict_6_6 = 0\n",
        "# LSTM_predict_6_7 = 0\n",
        "# LSTM_predict_7_5 = 0\n",
        "# LSTM_predict_7_6 = 0\n",
        "# LSTM_predict_7_7 = 0\n",
        "for i, row in test_label.iterrows():\n",
        "  if row['type'] == 5:\n",
        "    if row['predict_GRU'] == 5.0:\n",
        "      GRU_predict_5_5 += 1\n",
        "    # if row['predict_LSTM'] == 5.0:\n",
        "    #   LSTM_predict_5_5 += 1\n",
        "    if row['predict_GRU'] == 6.0:\n",
        "      GRU_predict_5_6 += 1\n",
        "    # if row['predict_LSTM'] == 6.0:\n",
        "    #   LSTM_predict_5_6 += 1\n",
        "    if row['predict_GRU'] == 7.0:\n",
        "      GRU_predict_5_7 += 1\n",
        "    # if row['predict_LSTM'] == 7.0:\n",
        "    #   LSTM_predict_5_7 += 1\n",
        "  if row['type'] == 6:\n",
        "    if row['predict_GRU'] == 5.0:\n",
        "      GRU_predict_6_5 += 1\n",
        "    # if row['predict_LSTM'] == 5.0:\n",
        "    #   LSTM_predict_6_5 += 1\n",
        "    if row['predict_GRU'] == 6.0:\n",
        "      GRU_predict_6_6 += 1\n",
        "    # if row['predict_LSTM'] == 6.0:\n",
        "    #   LSTM_predict_6_6 += 1\n",
        "    if row['predict_GRU'] == 7.0:\n",
        "      GRU_predict_6_7 += 1\n",
        "    # if row['predict_LSTM'] == 7.0:\n",
        "    #   LSTM_predict_6_7 += 1\n",
        "  if row['type'] == 7:\n",
        "    if row['predict_GRU'] == 5.0:\n",
        "      GRU_predict_7_5 += 1\n",
        "    # if row['predict_LSTM'] == 5.0:\n",
        "    #   LSTM_predict_7_5 += 1\n",
        "    if row['predict_GRU'] == 6.0:\n",
        "      GRU_predict_7_6 += 1\n",
        "    # if row['predict_LSTM'] == 6.0:\n",
        "    #   LSTM_predict_7_6 += 1\n",
        "    if row['predict_GRU'] == 7.0:\n",
        "      GRU_predict_7_7 += 1\n",
        "    # if row['predict_LSTM'] == 7.0:\n",
        "    #   LSTM_predict_7_7 += 1"
      ],
      "execution_count": null,
      "outputs": []
    },
    {
      "cell_type": "code",
      "metadata": {
        "id": "0S755zkXLr1X",
        "colab": {
          "base_uri": "https://localhost:8080/"
        },
        "outputId": "ea3f7b41-0154-4c48-ae9b-04f9502a0d6b"
      },
      "source": [
        "# print(type_5)\n",
        "# print(type_6)\n",
        "# print(type_7)\n",
        "# print()\n",
        "print(GRU_predict_5_5)\n",
        "print(GRU_predict_5_6)\n",
        "print(GRU_predict_5_7)\n",
        "print(GRU_predict_6_5)\n",
        "print(GRU_predict_6_6)\n",
        "print(GRU_predict_6_7)\n",
        "print(GRU_predict_7_5)\n",
        "print(GRU_predict_7_6)\n",
        "print(GRU_predict_7_7)\n",
        "# print()\n",
        "# print(LSTM_predict_5_5)\n",
        "# print(LSTM_predict_5_6)\n",
        "# print(LSTM_predict_5_7)\n",
        "# print(LSTM_predict_6_5)\n",
        "# print(LSTM_predict_6_6)\n",
        "# print(LSTM_predict_6_7)\n",
        "# print(LSTM_predict_7_5)\n",
        "# print(LSTM_predict_7_6)\n",
        "# print(LSTM_predict_7_7)"
      ],
      "execution_count": null,
      "outputs": [
        {
          "output_type": "stream",
          "text": [
            "0\n",
            "0\n",
            "28891\n",
            "0\n",
            "0\n",
            "96364\n",
            "0\n",
            "0\n",
            "5641344\n"
          ],
          "name": "stdout"
        }
      ]
    }
  ]
}